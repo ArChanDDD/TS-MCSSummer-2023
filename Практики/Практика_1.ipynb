{
  "nbformat": 4,
  "nbformat_minor": 0,
  "metadata": {
    "colab": {
      "provenance": []
    },
    "kernelspec": {
      "name": "python3",
      "display_name": "Python 3"
    },
    "language_info": {
      "name": "python"
    }
  },
  "cells": [
    {
      "cell_type": "markdown",
      "source": [
        "# Практика 1\n",
        "\n",
        "На этой практике мы посмотрим на временные ряды, попробуем модели из лекции, и\n",
        "начнем соревнование!\n",
        "\n",
        "Для начала склонируем наш репозиторий:"
      ],
      "metadata": {
        "id": "TjmKsWZYl2Uy"
      }
    },
    {
      "cell_type": "code",
      "source": [
        "!git clone https://github.com/ArChanDDD/TS-MCSSummer-2023.git"
      ],
      "metadata": {
        "id": "jcncvfd2on3M"
      },
      "execution_count": null,
      "outputs": []
    },
    {
      "cell_type": "markdown",
      "source": [
        "# Шаг 1: Pandas\n",
        "\n",
        "В этой главе мы познакомимся с очень полезной для ML библиотекой - `pandas`. Ее смысл - создавать датасеты и предоставлять функционал для работы с ними."
      ],
      "metadata": {
        "id": "9Et-JoYXn5jv"
      }
    },
    {
      "cell_type": "code",
      "execution_count": null,
      "metadata": {
        "id": "OEPkR3qRlrjW"
      },
      "outputs": [],
      "source": [
        "# Импортируем ее\n",
        "import pandas as pd\n",
        "# А эта библиотека для красивых графиков\n",
        "import matplotlib.pyplot as plt\n",
        "# А это чтобы крутые операции быстро делать\n",
        "import numpy as np"
      ]
    },
    {
      "cell_type": "markdown",
      "source": [
        "Все это время мы будем работать со датасетом `DailyDelhiClimate` - он содержит информацию о погодных условиях в Дели в 2013-2017 годах.\n",
        "\n",
        "Сначала стоит посмотреть, что там вообще есть:"
      ],
      "metadata": {
        "id": "H46zsFBooTyB"
      }
    },
    {
      "cell_type": "code",
      "source": [
        "df = pd.read_csv('TS-MCSSummer-2023/data/DailyDelhiClimateTrain.csv')"
      ],
      "metadata": {
        "id": "Vjd4CPWlnef7"
      },
      "execution_count": null,
      "outputs": []
    },
    {
      "cell_type": "code",
      "source": [
        "df.head()"
      ],
      "metadata": {
        "id": "ePfRJ1WHnmaw"
      },
      "execution_count": null,
      "outputs": []
    },
    {
      "cell_type": "markdown",
      "source": [
        "Читать его следует так:\n",
        "* строка это запись\n",
        "* столбец это параметр\n",
        "\n",
        "Получается, из параметров у нас есть\n",
        "\n",
        "* Дата\n",
        "* Средняя температура\n",
        "* Влажность\n",
        "* Скорость ветра\n",
        "* Среднее давление\n",
        "\n",
        "Пример понимания датасета: 1 января 2013 года средняя температура была 10 градусов, влажность - 84.5, ветра не было, среднее давление - 1015 мм.рт.ст.\n",
        "\n",
        "---\n",
        "\n",
        "А теперь давайте разберемся, какие операции с датасетом можно делать (хотя корректнее его называть ДатаФрейм):"
      ],
      "metadata": {
        "id": "nCttmARJpjLf"
      }
    },
    {
      "cell_type": "code",
      "source": [
        "# Cложение столбцов\n",
        "(df['meantemp'] + df['humidity'])[:5]"
      ],
      "metadata": {
        "id": "YQnIyZtfnm-t"
      },
      "execution_count": null,
      "outputs": []
    },
    {
      "cell_type": "markdown",
      "source": [
        "Как мы видим, он возвращает странную штуку - но можно сделать так:"
      ],
      "metadata": {
        "id": "g-793K79vc0z"
      }
    },
    {
      "cell_type": "code",
      "source": [
        "list(df['meantemp'] + df['humidity'])[:5]"
      ],
      "metadata": {
        "id": "Ogjt2UWhvYyH"
      },
      "execution_count": null,
      "outputs": []
    },
    {
      "cell_type": "markdown",
      "source": [
        "и вот это уже обычный список - а с ним можно спокойно работать :)\n",
        "\n",
        "Можно кстати создать новый столбец из списка:"
      ],
      "metadata": {
        "id": "uvXNkm48vnth"
      }
    },
    {
      "cell_type": "code",
      "source": [
        "df['meantemp + humidity'] = list(df['meantemp'] + df['humidity'])\n",
        "df"
      ],
      "metadata": {
        "id": "MyRaGViTvnKd"
      },
      "execution_count": null,
      "outputs": []
    },
    {
      "cell_type": "markdown",
      "source": [
        "Здорово, да?\n",
        "\n",
        "Помимо этого, столбцы аналогично поддерживают вычитание, деление, умножение, а также можно делать все эти действия с константой:"
      ],
      "metadata": {
        "id": "VrnvF4H4v90f"
      }
    },
    {
      "cell_type": "code",
      "source": [
        "(df['meantemp'] * 2)[:5]"
      ],
      "metadata": {
        "id": "lXhV9vcJv770"
      },
      "execution_count": null,
      "outputs": []
    },
    {
      "cell_type": "markdown",
      "source": [
        "Давай чуть-чуть попрактикуемся - посчитай для первых пяти записей разность удвоенной температуры и скорости ветра:"
      ],
      "metadata": {
        "id": "0E8jqhR6wcvL"
      }
    },
    {
      "cell_type": "code",
      "source": [
        "# TODO\n",
        "\n",
        "result = ...\n",
        "\n",
        "assert len(result) == 5, \"Нужно посчитать только для первых 5 записей\"\n",
        "assert np.allclose(list(result), [20.0, 11.82, 9.7, 16.1, 8.3]), \"Что-то посчитано не так\""
      ],
      "metadata": {
        "id": "o8YPhBNLwbjh"
      },
      "execution_count": null,
      "outputs": []
    },
    {
      "cell_type": "markdown",
      "source": [
        "Иногда появляется необходимость терироваться по записям в датасете - и, к сожалению, в пандасе с этим все грустно.\n",
        "Но есть иной вариант:"
      ],
      "metadata": {
        "id": "NHvwmF5Hxwlq"
      }
    },
    {
      "cell_type": "code",
      "source": [
        "# Обернем датасет в массив из numpy\n",
        "np.array(df[:5])"
      ],
      "metadata": {
        "id": "syidmnXawzDf"
      },
      "execution_count": null,
      "outputs": []
    },
    {
      "cell_type": "markdown",
      "source": [
        "Как видно, теперь это обычный список из списков, каждый из которых соответствует одной записи. А по списку итерироваться уже не так и сложно!\n",
        "\n",
        "Следующая задачка - посчитать сумму всех температур с помощью цикла `for`."
      ],
      "metadata": {
        "id": "2ZXr1Iz5yCcX"
      }
    },
    {
      "cell_type": "code",
      "source": [
        "# TODO\n",
        "\n",
        "result = ...\n",
        "\n",
        "assert np.isclose(result, 37274.45)"
      ],
      "metadata": {
        "id": "_5RFzj7aw_4n"
      },
      "execution_count": null,
      "outputs": []
    },
    {
      "cell_type": "markdown",
      "source": [
        "Но вообще эту задачу можно было решить и так:"
      ],
      "metadata": {
        "id": "TF8Wdv0NytJE"
      }
    },
    {
      "cell_type": "code",
      "source": [
        "result_2 = sum(df['meantemp'])\n",
        "\n",
        "print(f'Было  - {result}')\n",
        "print(f'Стало - {result_2}')"
      ],
      "metadata": {
        "id": "8aKXFBK8ykdE"
      },
      "execution_count": null,
      "outputs": []
    },
    {
      "cell_type": "markdown",
      "source": [
        "На этом вроде все, давайте уже модельки строить!"
      ],
      "metadata": {
        "id": "AhVNNxSGzAtK"
      }
    },
    {
      "cell_type": "markdown",
      "source": [
        "# Шаг 2: Обзор данных\n",
        "\n",
        "Раз уж мы там в датасет напихали всякого, давайте заново его импортируем\n",
        "\n"
      ],
      "metadata": {
        "id": "u9lZYpLezHMX"
      }
    },
    {
      "cell_type": "code",
      "source": [
        "df = pd.read_csv('TS-MCSSummer-2023/data/DailyDelhiClimateTrain.csv')\n",
        "df.head()"
      ],
      "metadata": {
        "id": "UHDo-nL3y9Ce"
      },
      "execution_count": null,
      "outputs": []
    },
    {
      "cell_type": "markdown",
      "source": [
        "На самом деле тут есть проблемка, которую мы сейчас пофиксим:"
      ],
      "metadata": {
        "id": "pwEiOxv80FyW"
      }
    },
    {
      "cell_type": "code",
      "source": [
        "df['date']"
      ],
      "metadata": {
        "id": "GzBhLS2C0QMs"
      },
      "execution_count": null,
      "outputs": []
    },
    {
      "cell_type": "markdown",
      "source": [
        "Как мы видим, тип стоит `object` - это плохо, потому что графики будут кривыми (можете построить, если интересно). Но это фиксится просто:"
      ],
      "metadata": {
        "id": "3XgyVftc0TGk"
      }
    },
    {
      "cell_type": "code",
      "source": [
        "from datetime import datetime\n",
        "\n",
        "df['date'] = [datetime.strptime(x, '%Y-%m-%d') for x in list(df['date'])]\n",
        "\n",
        "df['date']"
      ],
      "metadata": {
        "id": "39p-fUcqzjSd"
      },
      "execution_count": null,
      "outputs": []
    },
    {
      "cell_type": "markdown",
      "source": [
        "Теперь хорошо!\n",
        "\n",
        "**Наша главная цель** - научиться предсказывать температуру, поэтому, чтобы не забыть, создадим столбец `target`, который будет равен столбцу `meantemp`."
      ],
      "metadata": {
        "id": "QBhZr-yV0jw3"
      }
    },
    {
      "cell_type": "code",
      "source": [
        "df['target'] = df['meantemp']"
      ],
      "metadata": {
        "id": "R4JSYP7Jz3-N"
      },
      "execution_count": null,
      "outputs": []
    },
    {
      "cell_type": "markdown",
      "source": [
        "А теперь давайте вообще посмотрим на наш временной ряд:"
      ],
      "metadata": {
        "id": "ojgdM-6N082W"
      }
    },
    {
      "cell_type": "code",
      "source": [
        "_, _ = plt.subplots(1,1,figsize=(20,10))\n",
        "_ = plt.plot(df['date'], df['target']) # это значит, что по оси ОХ будет дата, а по оси OY будет наша температура"
      ],
      "metadata": {
        "id": "c4QuNQBN07_7"
      },
      "execution_count": null,
      "outputs": []
    },
    {
      "cell_type": "markdown",
      "source": [
        "Первое правило при работе с любой задачей машинного обучения - понять, что за данные. Что мы можем сказать про этот ряд? Есть ли у него тренд? А периодичность? Можно его назвать стационарным?"
      ],
      "metadata": {
        "id": "RIslAwHZ1R-j"
      }
    },
    {
      "cell_type": "markdown",
      "source": [
        "# Шаг 3: Наивная модель"
      ],
      "metadata": {
        "id": "mUfF7Kpf2Blm"
      }
    },
    {
      "cell_type": "markdown",
      "source": [
        "Понимаю, хочется начать предсказывать - мы же тут как раз для этого!\n",
        "\n",
        "Поэтому, давайте начнем с базовой модели - наивной. На всякий случай напомню, что это:\n",
        "\n",
        "**Наивной моделью** для задачи прогнозирования временных рядов называется модель, которая сопоставляет $y_t$ значение, которое было $lag$ шагов назад - то есть $y_{t-lag}$\n",
        "\n",
        "Для оценки наших моделей мы будем использовать валидацию на последнем \"горбу\" - вот этой четвертой горке на графике.\n",
        "\n",
        "Для этого мы разобьем датасет на две части - на одной мы будем обучаться, а на другой проверять качество наших моделек."
      ],
      "metadata": {
        "id": "sC-KsjuS2GIu"
      }
    },
    {
      "cell_type": "code",
      "source": [
        "val_start = 1117\n",
        "\n",
        "df_train = df[:val_start]\n",
        "df_val = df[val_start:]\n",
        "\n",
        "_, _ = plt.subplots(1,1,figsize=(20,10))\n",
        "_ = plt.plot(df_train['date'], df_train['target'], label='train')\n",
        "_ = plt.plot(df_val['date'], df_val['target'], label='val')\n",
        "_ = plt.legend()"
      ],
      "metadata": {
        "id": "0StYS_Yt1OXq"
      },
      "execution_count": null,
      "outputs": []
    },
    {
      "cell_type": "code",
      "source": [
        "# Просто функция для построения графиков\n",
        "def plot_graph(y_pred):\n",
        "  _, _ = plt.subplots(1,1,figsize=(18,10))\n",
        "  _ = plt.plot(df_train['date'], df_train['target'], label='train')\n",
        "  _ = plt.plot(df_val['date'], df_val['target'], label='val')\n",
        "  _ = plt.plot(df_val['date'], y_pred, label='predict')\n",
        "  _ = plt.legend()"
      ],
      "metadata": {
        "id": "8ezeItlqNBy7"
      },
      "execution_count": null,
      "outputs": []
    },
    {
      "cell_type": "code",
      "source": [
        "lag = len(df_val) # пусть будет так\n",
        "\n",
        "# TODO\n",
        "# Необходимо для каждого i < len(df_val) добавить в y_pred то значение, которое было в df_train lag позиций назад\n",
        "\n",
        "y_pred = []\n",
        "\n",
        "for i in range(len(df_val)):\n",
        "  ...\n",
        "\n",
        "\n",
        "plot_graph(y_pred)"
      ],
      "metadata": {
        "id": "rgOTuJu24LBv"
      },
      "execution_count": null,
      "outputs": []
    },
    {
      "cell_type": "markdown",
      "source": [
        "Вначале вроде как даже неплохо, но потом становится совсем плохо...\n",
        "\n",
        "Давайте оценим насколько все плохо - для этого посчитаем функцию\n",
        "$$\n",
        "MSE = \\frac{1}{n}\\sum_{i=0}^n (y_i - \\hat{y}_i)^2\n",
        "$$\n",
        "\n",
        "Где:\n",
        "\n",
        "* $y_i$ - правильно значение (которое `val`)\n",
        "* $\\hat{y}_i$ - предсказанное значение (которое `y_pred`)\n",
        "* $n$ - длина массива `y_pred` и `val`\n",
        "\n",
        "Реализуйте эту функцию!"
      ],
      "metadata": {
        "id": "HFTt883m5d8u"
      }
    },
    {
      "cell_type": "code",
      "source": [
        "# TODO\n",
        "\n",
        "def MSE(y_true, y_pred):\n",
        "  result = ...\n",
        "  return result"
      ],
      "metadata": {
        "id": "I3MSsFtj3VuF"
      },
      "execution_count": null,
      "outputs": []
    },
    {
      "cell_type": "code",
      "source": [
        "mse = MSE(list(df_val['target']), y_pred)\n",
        "print(mse)\n",
        "\n",
        "assert np.isclose(mse, 17.575336), \"Функция делает что-то не так...\""
      ],
      "metadata": {
        "id": "XtejmTEo6mG7"
      },
      "execution_count": null,
      "outputs": []
    },
    {
      "cell_type": "markdown",
      "source": [
        "Сложно сказать, хорошо это или нет, но будем считать эту ошибку ориентиром. Наша цель - сделать ее как можно меньше (а значит предсказание станет наиболее правильным)."
      ],
      "metadata": {
        "id": "qSsETnnb7N4q"
      }
    },
    {
      "cell_type": "markdown",
      "source": [
        "# Шаг 4: Линейная регрессия\n",
        "\n",
        "Наш следующий шаг - построить линейную регрессию. К огромному счастью, в питоне это все уже есть, а значит наша задача лишь подготовить данные"
      ],
      "metadata": {
        "id": "1EUj2u717d97"
      }
    },
    {
      "cell_type": "markdown",
      "source": [
        "## Регрессия на одном параметре\n",
        "\n",
        "Для начала давайте попробуем, как в примере на лекции, построить регрессию, в которой `x` будет равен дню в месяце.\n",
        "\n",
        "<details><summary> Подсказка 1 </summary>\n",
        "\n",
        "Не забывайте о том, что по `df_train['date']` можно итерироваться!\n",
        "\n",
        "</details>\n",
        "\n",
        "<details><summary> Подсказка 2 </summary>\n",
        "\n",
        "Можно сделать для каждого `x` в `df_train['date']` можно сделать `x.day` и получить день месяца.\n",
        "\n",
        "</details>"
      ],
      "metadata": {
        "id": "vGEoMy_77zyM"
      }
    },
    {
      "cell_type": "code",
      "source": [
        "# Достаем модель - линейную регрессию\n",
        "from sklearn.linear_model import LinearRegression\n",
        "\n",
        "# Почти у всех основных моделей в ML есть основные методы:\n",
        "# * fit() - обучение модели, на вход как правило подается X - данные, y - целевое значение\n",
        "# * predict() - предсказание, на вход подается X - возвраещается y_pred\n",
        "\n",
        "# Определяем модель\n",
        "model = LinearRegression()\n",
        "\n",
        "# TODO\n",
        "# X и X_val строятся одинаковым алгоритмом, но на разных датасетах\n",
        "\n",
        "y = list(df_train['target'])\n",
        "X = ...\n",
        "X_val = ...\n",
        "\n",
        "\n",
        "# Тут сначала оборачиваем в массив numpy, потом делаем так, чтобы числа были в столбик, а не в строку\n",
        "X = np.array(X).reshape(-1, 1)\n",
        "X_val = np.array(X_val).reshape(-1, 1)\n",
        "# Ну и обучаем, конечно\n",
        "model.fit(X, y)\n",
        "\n",
        "y_pred = model.predict(X_val)\n",
        "\n",
        "plot_graph(y_pred)"
      ],
      "metadata": {
        "id": "KaVBYlj36pxA"
      },
      "execution_count": null,
      "outputs": []
    },
    {
      "cell_type": "markdown",
      "source": [
        "Получилось что-то странное, не так ли? И в этом на самом деле нет ничего странного - насколько мы помним, наша функция принимала вид $y=kx$, а даже при учете, что дни чередуются, описать что-то не получится :(\n",
        "\n",
        "В любом случае, посчитаем MSE"
      ],
      "metadata": {
        "id": "Sp3IQab6N7BK"
      }
    },
    {
      "cell_type": "code",
      "source": [
        "MSE(y_pred, list(df_val['target']))"
      ],
      "metadata": {
        "id": "zP7o34gAOhWR"
      },
      "execution_count": null,
      "outputs": []
    },
    {
      "cell_type": "markdown",
      "source": [
        "Cурово. Попробуем сделать регрессию на нескольких параметрах - построим $y=\\sum k_ix_i$"
      ],
      "metadata": {
        "id": "ijPdm5BtO17_"
      }
    },
    {
      "cell_type": "markdown",
      "source": [
        "## Регрессия на нескольких параметрах\n",
        "\n",
        "Вообще, по графику можно увидеть, что линейной функцией приблизить не получится - вот бы можно было сделать что-то вроде $y=k_1x_1 + k_2x_2^2$...\n",
        "\n",
        "Но ведь так можно сделать! С одно стороны, это уже полиномиальная регрессия, с другой стороны - это линейная регрессия, в которой есть полиномы. Поэтому давайте создадим эти полиному - сделайте аналогично прыдущему пункту, но теперь мы будем обучаться не на `[day]`, а на `[day, day^2, month, month^2]`"
      ],
      "metadata": {
        "id": "ars9ujLgPDl7"
      }
    },
    {
      "cell_type": "code",
      "source": [
        "model = LinearRegression()\n",
        "\n",
        "# TODO\n",
        "\n",
        "y = list(df_train['target'])\n",
        "X = ...\n",
        "X_val = ...\n",
        "\n",
        "\n",
        "# Тут сначала оборачиваем в массив numpy, потом делаем так, чтобы числа были в столбик, а не в строку\n",
        "X = np.array(X).reshape(-1, 4)\n",
        "X_val = np.array(X_val).reshape(-1,4)\n",
        "# Ну и обучаем, конечно\n",
        "model.fit(X, y)\n",
        "\n",
        "y_pred = model.predict(X_val)\n",
        "\n",
        "plot_graph(y_pred)"
      ],
      "metadata": {
        "id": "XKtkXyl9O0Ay"
      },
      "execution_count": null,
      "outputs": []
    },
    {
      "cell_type": "code",
      "source": [
        "MSE(y_pred, list(df_val['target']))"
      ],
      "metadata": {
        "id": "RNmhoz93PVgt"
      },
      "execution_count": null,
      "outputs": []
    },
    {
      "cell_type": "markdown",
      "source": [
        "Ну это ведь уже совсем другое дело! Даже на графике видно, что стало заметно лучше, а MSE стал лучше почти на 40%! И все благодаря тому, что мы добавили несколько экзогенных переменных.\n",
        "\n",
        "На самом деле, Линейная регрессия - штука очень мощная. И не просто так всякие дата-саентисты часто ей пользуются - ведь она умеет так:"
      ],
      "metadata": {
        "id": "4yLXHv4ZRF7h"
      }
    },
    {
      "cell_type": "code",
      "source": [
        "list(model.coef_)"
      ],
      "metadata": {
        "id": "jbBz0LSDRFIJ"
      },
      "execution_count": null,
      "outputs": []
    },
    {
      "cell_type": "markdown",
      "source": [
        "Это коэфициенты нашей модели - $i$-й коэфициент соответсвует $i$-му параметру в $X$.\n",
        "\n",
        "Видно, что модель обращает большое внимание на месяц, а не на день - именно поэтому наша предыдущая модель была такой плохой.\n",
        "\n",
        "---\n",
        "\n",
        "Не думайте, что линейная регрессия это не тру - ради интереса можете попробовать добавить еще параметров. Вот увидите, результат может быть очень крутым 😁\n",
        "\n",
        "А мы идем дальше к самой крутой моделе в лекции"
      ],
      "metadata": {
        "id": "rB-g9v-9SmZb"
      }
    },
    {
      "cell_type": "markdown",
      "source": [
        "# Шаг 5: ARIMA\n",
        "\n",
        "Пришло время вспомнить, что это такое, и почему нам тут стоит использовать именно `ARIMA`, а не `ARMA` (или нет?)\n",
        "\n",
        "Поскольку `ARIMA` из разряда чуть выше, чем линейная регрессия, в ней методы будут уже несколько другими. В ней помимо метода `predict` есть метод `forecast` - потому что именно так называют предсказание временного ряда. В то же время `predict` предсказывает значения для *уже известных* данных\n",
        "\n",
        "Посмотрим, как она работает:\n",
        "\n",
        "p.s. а работает она заметно дольше"
      ],
      "metadata": {
        "id": "JRW4KAohUKkd"
      }
    },
    {
      "cell_type": "code",
      "source": [
        "from statsmodels.tsa.arima.model import ARIMA\n",
        "\n",
        "# Order идет в следующем порядке - p, d, q - учтите это\n",
        "\n",
        "model = ARIMA(\n",
        "    endog=df_train.target,\n",
        "    exog=None,\n",
        "    order=(10, 0, 12),\n",
        "    seasonal_order=(0, 0, 0, 0),\n",
        "    trend=None,\n",
        "    enforce_stationarity=True,\n",
        "    enforce_invertibility=True,\n",
        "    concentrate_scale=False,\n",
        "    trend_offset=1,\n",
        "    dates=None,\n",
        "    freq=None,\n",
        "    missing='none',\n",
        "    validate_specification=True\n",
        "    )\n",
        "modelfit = model.fit()\n",
        "\n",
        "y_pred = modelfit.forecast(steps=len(df_val))\n",
        "\n",
        "plot_graph(y_pred)\n"
      ],
      "metadata": {
        "id": "p1j_2B-iScCM"
      },
      "execution_count": null,
      "outputs": []
    },
    {
      "cell_type": "code",
      "source": [
        "MSE(list(df_val['target']), list(y_pred))"
      ],
      "metadata": {
        "id": "unw8ecZeXrtB"
      },
      "execution_count": null,
      "outputs": []
    },
    {
      "cell_type": "markdown",
      "source": [
        "На самом деле, не так плохо - но кажется, что у линейно регрессии ошибка была сильно меньше. Значит ли это, что регрессия гораздо лучше чем ARIMA?\n",
        "\n",
        "Cпойлер - нет. Регрессия не имеет никаких параметров, все что она делает - минимизирует функцию. А вот ARIMA в зависимости от параметров `p`, `q` и `d` может давать очень разные результаты. Имеет смысл попрактиковаться!"
      ],
      "metadata": {
        "id": "Hems5ogWh2WQ"
      }
    },
    {
      "cell_type": "code",
      "source": [
        "# Сюда можно скопировать код с АРИМой и попробовать сделать ее лучше"
      ],
      "metadata": {
        "id": "8bSRQSGjg-WV"
      },
      "execution_count": null,
      "outputs": []
    },
    {
      "cell_type": "markdown",
      "source": [
        "# Cоревнование\n",
        "\n",
        "Наш следующий этап - понять, насколько вообще наши предсказания хорошие.\n",
        "\n",
        "Для этого мы пойдем по пути крутых ML-разработчиков, и обратимся к **Kaggle**.\n",
        "\n",
        "Cсылка на наше соревнование - https://www.kaggle.com/t/91f9d8ed4419473dad88151c5e7411f3\n",
        "\n",
        "Надеемся, к этому моменту преподаватель уже рассказал, как им пользоваться, но если нет - расскажем тут.\n",
        "\n",
        "1.   Для начала нужно будет зарегистрироваться в `kaggle` - можно войти через гугл, это не особо важно.\n",
        "2.   По старой методике делаем `y_pred`, но теперь не для `df_val`, а для `df_test`, и запускаем функцию `make_submission_file`. Если все ок - качаем файлик на компьютер и идем на страничку соревнования в `kaggle`.\n",
        "3.   На странице соревнования жмем большую синюю кнопку `Make Submission` и заливаем туда наш файлик.\n",
        "4.   Ждем результата и думаем как сделать его еще лучше!\n",
        "5.   (не обязательно) В случае проблем или вопросов пишем преподавателям 🎃\n",
        "\n"
      ],
      "metadata": {
        "id": "OL_cGGdijA6H"
      }
    },
    {
      "cell_type": "code",
      "source": [
        "df_test = pd.read_csv('TS-MCSSummer-2023/data/DailyDelhiClimateTest.csv')\n",
        "df_test = df_test[['date', 'humidity', 'wind_speed', 'meanpressure']]\n",
        "old_dates = list(df_test['date'])\n",
        "df_test['date'] = [datetime.strptime(x, '%Y-%m-%d') for x in df_test['date']]\n",
        "df_test"
      ],
      "metadata": {
        "id": "8xIuENNtkEhE"
      },
      "execution_count": null,
      "outputs": []
    },
    {
      "cell_type": "code",
      "source": [
        "# Функция для проверки корректности перед отправкой\n",
        "\n",
        "def check_submission(df_to_check):\n",
        "  assert str(type(df_to_check)) == \"<class 'pandas.core.frame.DataFrame'>\", \"Это не датафрейм\"\n",
        "  assert len(df_to_check) == 114, \"Длина датафрейма должна быть 114\"\n",
        "  assert list(df_to_check.columns) == ['date', 'target'], \"У датафрейма должны быть колонки ['date', 'target']\"\n",
        "\n",
        "  df_to_check.set_index('date').to_csv('submission.csv')\n",
        "\n",
        "def make_submission_file(y_pred):\n",
        "  assert len(y_pred) == 114, \"Длина датафрейма должна быть 114\"\n",
        "\n",
        "  df_sub = pd.DataFrame(data=np.array([old_dates, y_pred]).transpose(), columns=['date', 'target'])\n",
        "  check_submission(df_sub)"
      ],
      "metadata": {
        "id": "GimMUsPknoDP"
      },
      "execution_count": null,
      "outputs": []
    },
    {
      "cell_type": "code",
      "source": [
        "# Все что вы захотите!"
      ],
      "metadata": {
        "id": "Mv_wdyCgwQ9o"
      },
      "execution_count": null,
      "outputs": []
    }
  ]
}